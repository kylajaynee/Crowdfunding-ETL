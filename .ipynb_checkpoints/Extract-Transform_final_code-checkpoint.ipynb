{
 "cells": [
  {
   "cell_type": "code",
   "execution_count": 1,
   "metadata": {},
   "outputs": [],
   "source": [
    "import pandas as pd\n",
    "import json"
   ]
  },
  {
   "cell_type": "code",
   "execution_count": 2,
   "metadata": {},
   "outputs": [],
   "source": [
    "backer_data = pd.read_csv(\"backer_info.csv\")\n",
    "#backer_data.sheet_names"
   ]
  },
  {
   "cell_type": "code",
   "execution_count": 3,
   "metadata": {},
   "outputs": [
    {
     "data": {
      "text/html": [
       "<div>\n",
       "<style scoped>\n",
       "    .dataframe tbody tr th:only-of-type {\n",
       "        vertical-align: middle;\n",
       "    }\n",
       "\n",
       "    .dataframe tbody tr th {\n",
       "        vertical-align: top;\n",
       "    }\n",
       "\n",
       "    .dataframe thead th {\n",
       "        text-align: right;\n",
       "    }\n",
       "</style>\n",
       "<table border=\"1\" class=\"dataframe\">\n",
       "  <thead>\n",
       "    <tr style=\"text-align: right;\">\n",
       "      <th></th>\n",
       "      <th>{\"backer_id\": \"av166\", \"cf_id\": 968, \"name\": \"Angelo Vincent\", \"email\": \"avincent@live.com\"}</th>\n",
       "    </tr>\n",
       "  </thead>\n",
       "  <tbody>\n",
       "    <tr>\n",
       "      <th>0</th>\n",
       "      <td>{\"backer_id\": \"ha127\", \"cf_id\": 563, \"name\": \"...</td>\n",
       "    </tr>\n",
       "    <tr>\n",
       "      <th>1</th>\n",
       "      <td>{\"backer_id\": \"lg794\", \"cf_id\": 65, \"name\": \"L...</td>\n",
       "    </tr>\n",
       "    <tr>\n",
       "      <th>2</th>\n",
       "      <td>{\"backer_id\": \"tb566\", \"cf_id\": 563, \"name\": \"...</td>\n",
       "    </tr>\n",
       "    <tr>\n",
       "      <th>3</th>\n",
       "      <td>{\"backer_id\": \"lh506\", \"cf_id\": 563, \"name\": \"...</td>\n",
       "    </tr>\n",
       "    <tr>\n",
       "      <th>4</th>\n",
       "      <td>{\"backer_id\": \"lh382\", \"cf_id\": 563, \"name\": \"...</td>\n",
       "    </tr>\n",
       "    <tr>\n",
       "      <th>5</th>\n",
       "      <td>{\"backer_id\": \"em444\", \"cf_id\": 563, \"name\": \"...</td>\n",
       "    </tr>\n",
       "    <tr>\n",
       "      <th>6</th>\n",
       "      <td>{\"backer_id\": \"at582\", \"cf_id\": 1572, \"name\": ...</td>\n",
       "    </tr>\n",
       "    <tr>\n",
       "      <th>7</th>\n",
       "      <td>{\"backer_id\": \"id772\", \"cf_id\": 1911, \"name\": ...</td>\n",
       "    </tr>\n",
       "    <tr>\n",
       "      <th>8</th>\n",
       "      <td>{\"backer_id\": \"lw275\", \"cf_id\": 65, \"name\": \"L...</td>\n",
       "    </tr>\n",
       "    <tr>\n",
       "      <th>9</th>\n",
       "      <td>{\"backer_id\": \"ub509\", \"cf_id\": 65, \"name\": \"U...</td>\n",
       "    </tr>\n",
       "  </tbody>\n",
       "</table>\n",
       "</div>"
      ],
      "text/plain": [
       "  {\"backer_id\": \"av166\", \"cf_id\": 968, \"name\": \"Angelo Vincent\", \"email\": \"avincent@live.com\"}\n",
       "0  {\"backer_id\": \"ha127\", \"cf_id\": 563, \"name\": \"...                                          \n",
       "1  {\"backer_id\": \"lg794\", \"cf_id\": 65, \"name\": \"L...                                          \n",
       "2  {\"backer_id\": \"tb566\", \"cf_id\": 563, \"name\": \"...                                          \n",
       "3  {\"backer_id\": \"lh506\", \"cf_id\": 563, \"name\": \"...                                          \n",
       "4  {\"backer_id\": \"lh382\", \"cf_id\": 563, \"name\": \"...                                          \n",
       "5  {\"backer_id\": \"em444\", \"cf_id\": 563, \"name\": \"...                                          \n",
       "6  {\"backer_id\": \"at582\", \"cf_id\": 1572, \"name\": ...                                          \n",
       "7  {\"backer_id\": \"id772\", \"cf_id\": 1911, \"name\": ...                                          \n",
       "8  {\"backer_id\": \"lw275\", \"cf_id\": 65, \"name\": \"L...                                          \n",
       "9  {\"backer_id\": \"ub509\", \"cf_id\": 65, \"name\": \"U...                                          "
      ]
     },
     "execution_count": 3,
     "metadata": {},
     "output_type": "execute_result"
    }
   ],
   "source": [
    "file_path = \"./backer_info.csv\"\n",
    "backer_df = pd.read_csv(file_path, header=1)\n",
    "backer_df.head(10)"
   ]
  },
  {
   "cell_type": "code",
   "execution_count": 4,
   "metadata": {},
   "outputs": [
    {
     "name": "stdout",
     "output_type": "stream",
     "text": [
      "<class 'pandas.core.frame.DataFrame'>\n",
      "RangeIndex: 8174 entries, 0 to 8173\n",
      "Data columns (total 1 columns):\n",
      " #   Column                                                                                        Non-Null Count  Dtype \n",
      "---  ------                                                                                        --------------  ----- \n",
      " 0   {\"backer_id\": \"av166\", \"cf_id\": 968, \"name\": \"Angelo Vincent\", \"email\": \"avincent@live.com\"}  8174 non-null   object\n",
      "dtypes: object(1)\n",
      "memory usage: 64.0+ KB\n"
     ]
    }
   ],
   "source": [
    "backer_df.info()"
   ]
  },
  {
   "cell_type": "markdown",
   "metadata": {},
   "source": [
    "## Deliverable 1: Extract\n",
    "----\n",
    "### Option 1: Use Python Dictionary Methods\n",
    "\n",
    "1. Import the `backer_info.csv` file into a DataFrame.\n",
    "2. Iterate through the DataFrame and convert each row to a dictionary. \n",
    "3. Iterate through each dictionary and do the following:\n",
    "    * Extract the dictionary values from the keys using Python list comprehension.\n",
    "    * Add the values for each row to a new list. \n",
    "4. Create a new DataFrame with the retrieved data. \n",
    "5. Export the DataFrame as `backers_data.csv`."
   ]
  },
  {
   "cell_type": "code",
   "execution_count": 5,
   "metadata": {},
   "outputs": [
    {
     "data": {
      "text/plain": [
       "['{\"backer_id\": \"av166\", \"cf_id\": 968, \"name\": \"Angelo Vincent\", \"email\": \"avincent@live.com\"}']"
      ]
     },
     "execution_count": 5,
     "metadata": {},
     "output_type": "execute_result"
    }
   ],
   "source": [
    "# Get the backers_info from the crowdfunding_info sheet. \n",
    "pd.set_option('max_colwidth', 400)\n",
    "backers_id_list = backer_df.columns.to_list()\n",
    "backers_id_list"
   ]
  },
  {
   "cell_type": "code",
   "execution_count": 31,
   "metadata": {},
   "outputs": [],
   "source": [
    "data_rows = []\n",
    "# Iterate through the backers DataFrame and convert each row to a dictionary.\n",
    "for i, row in backer_df.iterrows():\n",
    "    # Iterate through each dictionary (row) and get the values for each row using list comprehension.\n",
    "    # Append the list of values for each row to a list. \n",
    "    data_rows.append(row[0].split(\",\"))\n",
    "\n",
    "# Print out the list of values for each row.\n",
    "#data_rows"
   ]
  },
  {
   "cell_type": "code",
   "execution_count": 33,
   "metadata": {},
   "outputs": [],
   "source": [
    "# Create a backers_df DataFrame with the following columns: 'backer_id','cf_id', 'name', and 'email' \n",
    "# using the list of values lists. \n",
    "backer_info_df = pd.DataFrame(data_rows, columns=['backer_id','cf_id', 'name', 'email' ])\n",
    "backer_info_df"
   ]
  },
  {
   "cell_type": "code",
   "execution_count": 33,
   "metadata": {},
   "outputs": [
    {
     "data": {
      "text/html": [
       "<div>\n",
       "<style scoped>\n",
       "    .dataframe tbody tr th:only-of-type {\n",
       "        vertical-align: middle;\n",
       "    }\n",
       "\n",
       "    .dataframe tbody tr th {\n",
       "        vertical-align: top;\n",
       "    }\n",
       "\n",
       "    .dataframe thead th {\n",
       "        text-align: right;\n",
       "    }\n",
       "</style>\n",
       "<table border=\"1\" class=\"dataframe\">\n",
       "  <thead>\n",
       "    <tr style=\"text-align: right;\">\n",
       "      <th></th>\n",
       "      <th>backer_id</th>\n",
       "      <th>cf_id</th>\n",
       "      <th>name</th>\n",
       "      <th>email</th>\n",
       "    </tr>\n",
       "  </thead>\n",
       "  <tbody>\n",
       "    <tr>\n",
       "      <th>0</th>\n",
       "      <td>{\"backer_id\": \"ha127\"</td>\n",
       "      <td>\"cf_id\": 563</td>\n",
       "      <td>\"name\": \"Hubert Arnold\"</td>\n",
       "      <td>\"email\": \"harnold@yandex.com\"}</td>\n",
       "    </tr>\n",
       "    <tr>\n",
       "      <th>1</th>\n",
       "      <td>{\"backer_id\": \"lg794\"</td>\n",
       "      <td>\"cf_id\": 65</td>\n",
       "      <td>\"name\": \"Loris Goulet\"</td>\n",
       "      <td>\"email\": \"lgoulet@yandex.com\"}</td>\n",
       "    </tr>\n",
       "    <tr>\n",
       "      <th>2</th>\n",
       "      <td>{\"backer_id\": \"tb566\"</td>\n",
       "      <td>\"cf_id\": 563</td>\n",
       "      <td>\"name\": \"Teodora Brunelli\"</td>\n",
       "      <td>\"email\": \"tbrunelli@outlook.com\"}</td>\n",
       "    </tr>\n",
       "    <tr>\n",
       "      <th>3</th>\n",
       "      <td>{\"backer_id\": \"lh506\"</td>\n",
       "      <td>\"cf_id\": 563</td>\n",
       "      <td>\"name\": \"Lexie Hunt\"</td>\n",
       "      <td>\"email\": \"lhunt@live.com\"}</td>\n",
       "    </tr>\n",
       "    <tr>\n",
       "      <th>4</th>\n",
       "      <td>{\"backer_id\": \"lh382\"</td>\n",
       "      <td>\"cf_id\": 563</td>\n",
       "      <td>\"name\": \"Lambert Huber\"</td>\n",
       "      <td>\"email\": \"lhuber@live.com\"}</td>\n",
       "    </tr>\n",
       "    <tr>\n",
       "      <th>...</th>\n",
       "      <td>...</td>\n",
       "      <td>...</td>\n",
       "      <td>...</td>\n",
       "      <td>...</td>\n",
       "    </tr>\n",
       "    <tr>\n",
       "      <th>8169</th>\n",
       "      <td>{\"backer_id\": \"st581\"</td>\n",
       "      <td>\"cf_id\": 65</td>\n",
       "      <td>\"name\": \"Serita Thebault\"</td>\n",
       "      <td>\"email\": \"sthebault@yandex.com\"}</td>\n",
       "    </tr>\n",
       "    <tr>\n",
       "      <th>8170</th>\n",
       "      <td>{\"backer_id\": \"gf637\"</td>\n",
       "      <td>\"cf_id\": 563</td>\n",
       "      <td>\"name\": \"Glenn Foerstner\"</td>\n",
       "      <td>\"email\": \"gfoerstner@yahoo.com\"}</td>\n",
       "    </tr>\n",
       "    <tr>\n",
       "      <th>8171</th>\n",
       "      <td>{\"backer_id\": \"rc983\"</td>\n",
       "      <td>\"cf_id\": 1114</td>\n",
       "      <td>\"name\": \"Robt Collin\"</td>\n",
       "      <td>\"email\": \"rcollin@outlook.com\"}</td>\n",
       "    </tr>\n",
       "    <tr>\n",
       "      <th>8172</th>\n",
       "      <td>{\"backer_id\": \"cz381\"</td>\n",
       "      <td>\"cf_id\": 65</td>\n",
       "      <td>\"name\": \"Corina Zappa\"</td>\n",
       "      <td>\"email\": \"czappa@outlook.com\"}</td>\n",
       "    </tr>\n",
       "    <tr>\n",
       "      <th>8173</th>\n",
       "      <td>{\"backer_id\": \"fg535\"</td>\n",
       "      <td>\"cf_id\": 65</td>\n",
       "      <td>\"name\": \"Freeman Gibbs\"</td>\n",
       "      <td>\"email\": \"fgibbs@outlook.com\"}</td>\n",
       "    </tr>\n",
       "  </tbody>\n",
       "</table>\n",
       "<p>8174 rows × 4 columns</p>\n",
       "</div>"
      ],
      "text/plain": [
       "                  backer_id           cf_id                         name  \\\n",
       "0     {\"backer_id\": \"ha127\"    \"cf_id\": 563      \"name\": \"Hubert Arnold\"   \n",
       "1     {\"backer_id\": \"lg794\"     \"cf_id\": 65       \"name\": \"Loris Goulet\"   \n",
       "2     {\"backer_id\": \"tb566\"    \"cf_id\": 563   \"name\": \"Teodora Brunelli\"   \n",
       "3     {\"backer_id\": \"lh506\"    \"cf_id\": 563         \"name\": \"Lexie Hunt\"   \n",
       "4     {\"backer_id\": \"lh382\"    \"cf_id\": 563      \"name\": \"Lambert Huber\"   \n",
       "...                     ...             ...                          ...   \n",
       "8169  {\"backer_id\": \"st581\"     \"cf_id\": 65    \"name\": \"Serita Thebault\"   \n",
       "8170  {\"backer_id\": \"gf637\"    \"cf_id\": 563    \"name\": \"Glenn Foerstner\"   \n",
       "8171  {\"backer_id\": \"rc983\"   \"cf_id\": 1114        \"name\": \"Robt Collin\"   \n",
       "8172  {\"backer_id\": \"cz381\"     \"cf_id\": 65       \"name\": \"Corina Zappa\"   \n",
       "8173  {\"backer_id\": \"fg535\"     \"cf_id\": 65      \"name\": \"Freeman Gibbs\"   \n",
       "\n",
       "                                   email  \n",
       "0         \"email\": \"harnold@yandex.com\"}  \n",
       "1         \"email\": \"lgoulet@yandex.com\"}  \n",
       "2      \"email\": \"tbrunelli@outlook.com\"}  \n",
       "3             \"email\": \"lhunt@live.com\"}  \n",
       "4            \"email\": \"lhuber@live.com\"}  \n",
       "...                                  ...  \n",
       "8169    \"email\": \"sthebault@yandex.com\"}  \n",
       "8170    \"email\": \"gfoerstner@yahoo.com\"}  \n",
       "8171     \"email\": \"rcollin@outlook.com\"}  \n",
       "8172      \"email\": \"czappa@outlook.com\"}  \n",
       "8173      \"email\": \"fgibbs@outlook.com\"}  \n",
       "\n",
       "[8174 rows x 4 columns]"
      ]
     },
     "execution_count": 33,
     "metadata": {},
     "output_type": "execute_result"
    }
   ],
   "source": [
    "#Clean Data ?????\n",
    "#crowdfunding_info_df[[\"category\",\"subcategory\"]] = crowdfunding_info_df[\"category & sub-category\"].str.split('/', n=1, expand=True)\n",
    "#crowdfunding_info_df.head(10)"
   ]
  },
  {
   "cell_type": "code",
   "execution_count": 8,
   "metadata": {},
   "outputs": [],
   "source": [
    "# Export the DataFrame as a CSV file using encoding='utf8'.\n"
   ]
  },
  {
   "cell_type": "markdown",
   "metadata": {},
   "source": [
    "## Deliverable 1: Extract\n",
    "----\n",
    "### Option 2: Use regex \n",
    "\n",
    "1. Import the `backer_info.csv` file into a DataFrame. \n",
    "2. Extract the \"backer_id\", \"cf_id\", \"name\", and \"email using regular expressions.\"\n",
    "3. Create a new DataFrame with the retrieved data.\n",
    "4. Export the DataFrame as `backers_data.csv`."
   ]
  },
  {
   "cell_type": "code",
   "execution_count": 9,
   "metadata": {},
   "outputs": [],
   "source": [
    "# Get the backers_info from the crowdfunding_info sheet. \n",
    "pd.set_option('max_colwidth', 400)\n"
   ]
  },
  {
   "cell_type": "code",
   "execution_count": 10,
   "metadata": {},
   "outputs": [],
   "source": [
    "# Extract the alpha-numeric \"backer_id\" from the backer_info column using a regex expression \n",
    "# and add it as a new column called \"backer_id\".\n",
    "\n"
   ]
  },
  {
   "cell_type": "code",
   "execution_count": 11,
   "metadata": {},
   "outputs": [],
   "source": [
    "# Extract the two to four-digit \"cf_id\" number from the backer_info column. \n",
    "# and add it as a new column called \"cf_id\".\n"
   ]
  },
  {
   "cell_type": "code",
   "execution_count": 12,
   "metadata": {},
   "outputs": [],
   "source": [
    "# Extract the name from the backer_info column and add it as a new column called \"name\".\n"
   ]
  },
  {
   "cell_type": "code",
   "execution_count": 13,
   "metadata": {},
   "outputs": [],
   "source": [
    "# Extract the email from the backer_info column and add it as a new column called \"email\".\n"
   ]
  },
  {
   "cell_type": "code",
   "execution_count": 14,
   "metadata": {},
   "outputs": [],
   "source": [
    "# Create a new DataFrame with the appropriate columns.\n"
   ]
  },
  {
   "cell_type": "code",
   "execution_count": 15,
   "metadata": {},
   "outputs": [],
   "source": [
    "# Export the DataFrame as a CSV file using encoding='utf8'.\n"
   ]
  },
  {
   "cell_type": "markdown",
   "metadata": {},
   "source": [
    "## Deliverable 2: Transform and Clean Data\n",
    "----\n",
    "1. Check the data types of the columns and convert the \"cf_id\" column to an integer, if necessary.\n",
    "2. Split the name in the \"name\" column into first and last names, and add them to \"first_name\" and \"last_name\" columns in the DataFrame. \n",
    "3. Drop the \"name\" column in the DataFrame.\n",
    "4. Place the columns in the following order; \"backer_id\", \"cf_id\", \"first_name\", \"last_name\" and \"email\"."
   ]
  },
  {
   "cell_type": "code",
   "execution_count": 16,
   "metadata": {},
   "outputs": [],
   "source": [
    "# Check data types.\n"
   ]
  },
  {
   "cell_type": "code",
   "execution_count": 17,
   "metadata": {},
   "outputs": [],
   "source": [
    "# Convert cf_id to an integer if necessary.\n"
   ]
  },
  {
   "cell_type": "code",
   "execution_count": 18,
   "metadata": {},
   "outputs": [],
   "source": [
    "# Split the \"name\" column into \"first_name\" and \"last_name\" columns.\n"
   ]
  },
  {
   "cell_type": "code",
   "execution_count": 19,
   "metadata": {},
   "outputs": [],
   "source": [
    "#  Drop the name column\n",
    "\n",
    "\n",
    "# Reorder the columns\n"
   ]
  },
  {
   "cell_type": "code",
   "execution_count": 20,
   "metadata": {},
   "outputs": [],
   "source": [
    "# Export the DataFrame as a CSV file using encoding='utf8'.\n"
   ]
  },
  {
   "cell_type": "code",
   "execution_count": null,
   "metadata": {},
   "outputs": [],
   "source": []
  }
 ],
 "metadata": {
  "kernelspec": {
   "display_name": "Python 3 (ipykernel)",
   "language": "python",
   "name": "python3"
  },
  "language_info": {
   "codemirror_mode": {
    "name": "ipython",
    "version": 3
   },
   "file_extension": ".py",
   "mimetype": "text/x-python",
   "name": "python",
   "nbconvert_exporter": "python",
   "pygments_lexer": "ipython3",
   "version": "3.7.13"
  }
 },
 "nbformat": 4,
 "nbformat_minor": 4
}
